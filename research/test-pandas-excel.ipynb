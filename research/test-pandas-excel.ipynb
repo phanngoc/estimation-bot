{
 "cells": [
  {
   "cell_type": "code",
   "execution_count": 10,
   "metadata": {},
   "outputs": [
    {
     "name": "stdout",
     "output_type": "stream",
     "text": [
      "Requirement already satisfied: openpyxl in /Users/ngocp/Documents/projects/est_app/.venv/lib/python3.12/site-packages (3.1.5)\n",
      "Collecting tabulate\n",
      "  Using cached tabulate-0.9.0-py3-none-any.whl.metadata (34 kB)\n",
      "Requirement already satisfied: et-xmlfile in /Users/ngocp/Documents/projects/est_app/.venv/lib/python3.12/site-packages (from openpyxl) (2.0.0)\n",
      "Using cached tabulate-0.9.0-py3-none-any.whl (35 kB)\n",
      "Installing collected packages: tabulate\n",
      "Successfully installed tabulate-0.9.0\n"
     ]
    }
   ],
   "source": [
    "!pip install openpyxl tabulate"
   ]
  },
  {
   "cell_type": "code",
   "execution_count": 11,
   "metadata": {},
   "outputs": [],
   "source": [
    "import pandas as pd\n",
    "import sys\n",
    "import os\n",
    "import json"
   ]
  },
  {
   "cell_type": "code",
   "execution_count": 12,
   "metadata": {},
   "outputs": [],
   "source": [
    "file_path = \"../data/[JALwellness & travel] ProjectName - Effort Estimation 20250218.xlsx\"\n",
    "excel = pd.ExcelFile(file_path)\n",
    "sheet_names = excel.sheet_names\n",
    "\n",
    "markdown_parts = []\n",
    "file_name = os.path.basename(file_path)\n",
    "markdown_parts.append(f\"# Excel File: {file_name}\\n\")\n",
    "\n",
    "for sheet_name in sheet_names:\n",
    "    df = pd.read_excel(file_path, sheet_name=sheet_name)\n",
    "    \n",
    "    # Add sheet name as heading\n",
    "    markdown_parts.append(f\"## Sheet: {sheet_name}\\n\")\n",
    "    \n",
    "    # Convert to markdown table\n",
    "    if not df.empty:\n",
    "        markdown_table = df.to_markdown(index=False)\n",
    "        markdown_parts.append(markdown_table)\n",
    "    else:\n",
    "        markdown_parts.append(\"*Empty sheet*\")\n",
    "    \n",
    "    markdown_parts.append(\"\\n\")"
   ]
  },
  {
   "cell_type": "code",
   "execution_count": 14,
   "metadata": {},
   "outputs": [],
   "source": [
    "output_file = file_path.replace('.xlsx', '.md')\n",
    "with open(output_file, 'w', encoding='utf-8') as f:\n",
    "    f.write('\\n'.join(markdown_parts))"
   ]
  }
 ],
 "metadata": {
  "kernelspec": {
   "display_name": ".venv",
   "language": "python",
   "name": "python3"
  },
  "language_info": {
   "codemirror_mode": {
    "name": "ipython",
    "version": 3
   },
   "file_extension": ".py",
   "mimetype": "text/x-python",
   "name": "python",
   "nbconvert_exporter": "python",
   "pygments_lexer": "ipython3",
   "version": "3.12.4"
  }
 },
 "nbformat": 4,
 "nbformat_minor": 2
}
